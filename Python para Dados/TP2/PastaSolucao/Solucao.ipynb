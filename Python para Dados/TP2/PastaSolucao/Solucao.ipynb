{
 "cells": [
  {
   "cell_type": "markdown",
   "metadata": {},
   "source": [
    "# TP2\n",
    "\n",
    "## Competencias Avaliadas:\n",
    "\n",
    "Manipulação de Arquivos (CSV e JSON) e utilizando o pandas para criar a rede INFwebNET.\n",
    "\n",
    "---\n",
    "\n",
    "**Contexto:** Você continua sendo um cientista de dados na INFwebNET, mas agora o foco é a manipulação de arquivos em diferentes formatos. A INFwebNET armazena dados em arquivos CSV e JSON, e você precisa usar suas habilidades em Python e pandas para processar esses dados de forma eficiente e organizada.\n",
    "\n",
    "---"
   ]
  },
  {
   "cell_type": "markdown",
   "metadata": {},
   "source": [
    "\n",
    "## Níveis de Dificuldade:\n",
    "\n",
    "* *Fácil*  (★):  Leitura e escrita básica de arquivos.\n",
    "* *Médio* (★★):  Manipulação de dados, formatação e uso de módulos.\n",
    "* *Difícil* (★★★):  Processamento avançado, otimização e  integração de  ferramentas.\n",
    "\n",
    "---"
   ]
  },
  {
   "cell_type": "markdown",
   "metadata": {},
   "source": [
    "\n",
    "**Disclaimer:** Desculpem a falta de criatividade, podem me sacanear, mas precisei utilizar o termo *INFNETianos* para distinguir o usuário que opera o sistema do usuário da rede social INFwebNet.\n",
    "\n",
    "---"
   ]
  },
  {
   "cell_type": "markdown",
   "metadata": {},
   "source": [
    "\n",
    "\n",
    "## Enunciados:\n",
    "\n",
    "1. **(★) \"Abrindo as Portas\":** Escreva um programa que leia o arquivo \"\"rede_INFNET_atualizado.txt\" que foi elaborado no seu TP1, que contém dados básicos dos usuários (nome, idade, cidade, estado) - INFNETianos, e utilizando a biblioteca csv, exporte um arquivo “INFwebNet.csv” contendo os mesmos dados.--\n"
   ]
  },
  {
   "cell_type": "code",
   "execution_count": null,
   "metadata": {},
   "outputs": [
    {
     "ename": "",
     "evalue": "",
     "output_type": "error",
     "traceback": [
      "\u001b[1;31mA execução de células com 'Python 3.12.3' requer o pacote ipykernel.\n",
      "\u001b[1;31mExecute o seguinte comando para instalar \"ipykernel\" no ambiente do Python. \n",
      "\u001b[1;31mComando: \"/bin/python -m pip install ipykernel -U --user --force-reinstall\""
     ]
    }
   ],
   "source": []
  },
  {
   "cell_type": "markdown",
   "metadata": {},
   "source": [
    "\n",
    "2. **(★★) \"Estruturando os Dados”:** Utilizando apenas as bibliotecas csv e json, leia os dados do arquivo csv criado no item anterior, parseie as informações para uma estrutura json e exporte o arquivo “INFwebNET.json” devidamente estruturado.\n"
   ]
  },
  {
   "cell_type": "code",
   "execution_count": null,
   "metadata": {},
   "outputs": [
    {
     "ename": "",
     "evalue": "",
     "output_type": "error",
     "traceback": [
      "\u001b[1;31mA execução de células com 'Python 3.12.3' requer o pacote ipykernel.\n",
      "\u001b[1;31mExecute o seguinte comando para instalar \"ipykernel\" no ambiente do Python. \n",
      "\u001b[1;31mComando: \"/bin/python -m pip install ipykernel -U --user --force-reinstall\""
     ]
    }
   ],
   "source": []
  },
  {
   "cell_type": "markdown",
   "metadata": {},
   "source": [
    "\n",
    "3. **(★★) \"Cadastro Simplificado\"**:  Crie um programa que permita ao usuário inserir novos INFNETianos (nome, idade, cidade, estado) e salve essas informações no arquivo \"“INFwebNET.json\", utilizando o módulo json.\n"
   ]
  },
  {
   "cell_type": "code",
   "execution_count": null,
   "metadata": {},
   "outputs": [
    {
     "ename": "",
     "evalue": "",
     "output_type": "error",
     "traceback": [
      "\u001b[1;31mA execução de células com 'Python 3.12.3' requer o pacote ipykernel.\n",
      "\u001b[1;31mExecute o seguinte comando para instalar \"ipykernel\" no ambiente do Python. \n",
      "\u001b[1;31mComando: \"/bin/python -m pip install ipykernel -U --user --force-reinstall\""
     ]
    }
   ],
   "source": []
  },
  {
   "cell_type": "markdown",
   "metadata": {},
   "source": [
    "\n",
    "4. **(★) \"Análise com Pandas\":** Utilize o Pandas para ler o arquivo \"“INFwebNET.json\". Calcule a média de idade dos INFNETianos e exiba o resultado.\n"
   ]
  },
  {
   "cell_type": "code",
   "execution_count": null,
   "metadata": {},
   "outputs": [],
   "source": []
  },
  {
   "cell_type": "markdown",
   "metadata": {},
   "source": [
    "\n",
    "5. **(★★★) \"Ampliando as Informações”:** Elabore uma função que permita inserir novos INFNETianos na rede INFwebNet incluindo novos campos de dados. Além dos dados já existentes poderão serem incluídos os campos “hobbys” que conterá uma lista de atividades de interesse do INFNETiano, um campo “coding” que deverá conter uma lista de linguagens de programação que INFNETiano utiliza e uma lista de dicionários contendo os campos “jogos” e “plataforma”, onde o usuário poderá informar os jogos favoritos e a respectiva plataforma na qual o INFNETiano jogou aquele jogo.\n"
   ]
  },
  {
   "cell_type": "code",
   "execution_count": null,
   "metadata": {},
   "outputs": [],
   "source": []
  },
  {
   "cell_type": "markdown",
   "metadata": {},
   "source": [
    "\n",
    "6. **(★★) \"Dados Delimitados\":**  A INFwebNET recebeu um arquivo \"dados_usuarios_novos.txt\" com dados dos novos INFNETianos separados por ponto e vírgula (;).  Utilize o módulo csv para ler esse arquivo, especificando o delimitador correto. (O arquivo está disponível no repositório específico do TP2).\n"
   ]
  },
  {
   "cell_type": "code",
   "execution_count": null,
   "metadata": {},
   "outputs": [],
   "source": []
  },
  {
   "cell_type": "markdown",
   "metadata": {},
   "source": [
    "\n",
    "7. **(★★★) “Organizando a Bagunça”:** Após ter obtido dados de diferentes bases de dados você precisa avançar um passo e reunir todas as informações do INFwebNet em um único DataFrame Pandas. (Lembre-se de estruturar as Séries adequadamente).\n"
   ]
  },
  {
   "cell_type": "code",
   "execution_count": null,
   "metadata": {},
   "outputs": [],
   "source": []
  },
  {
   "cell_type": "markdown",
   "metadata": {},
   "source": [
    "\n",
    "8. **(★★) “Criando Informações”:** Crie uma nova coluna no dataset chamada “ano_nascimento” considerando a data atual e informação presente na coluna idade.\n"
   ]
  },
  {
   "cell_type": "code",
   "execution_count": null,
   "metadata": {},
   "outputs": [],
   "source": []
  },
  {
   "cell_type": "markdown",
   "metadata": {},
   "source": [
    "\n",
    "9. **(★★) “Completando os Dados”:** Considerando os campos existentes no dataset obtido, utilize o Pandas para preencher adequadamente 2 campos onde houverem valores ausentes. Explique e justifique o critério utilizado.\n"
   ]
  },
  {
   "cell_type": "code",
   "execution_count": null,
   "metadata": {},
   "outputs": [],
   "source": []
  },
  {
   "cell_type": "markdown",
   "metadata": {},
   "source": [
    "\n",
    "10. **(★) “Guardando as Informações”:** Utilizando o Pandas salve todo o banco de dados do INFwebNet em um arquivo json chamado “INFwebNet_Data.json\".\n"
   ]
  },
  {
   "cell_type": "code",
   "execution_count": null,
   "metadata": {},
   "outputs": [],
   "source": []
  },
  {
   "cell_type": "markdown",
   "metadata": {},
   "source": [
    "\n",
    "11. **(★★) “Selecionando Grupos”:** Utilize o pandas para filtrar os INFNETianos pelo estado onde mora. Salve os usuários de cada estado em um arquivo csv nomeado como “grupo_##.csv”, onde ## deve ser substituído pela sigla do estado.\n"
   ]
  },
  {
   "cell_type": "code",
   "execution_count": null,
   "metadata": {},
   "outputs": [],
   "source": []
  },
  {
   "cell_type": "markdown",
   "metadata": {},
   "source": [
    "\n",
    "12. **(★) “Agrupando INFNETianos”:** Crie uma função que seja capaz de filtrar usuários por ano de nascimento, dado dois valores de ano e exiba todos os usuários que nasceram nestes anos.\n"
   ]
  },
  {
   "cell_type": "code",
   "execution_count": null,
   "metadata": {},
   "outputs": [],
   "source": []
  },
  {
   "cell_type": "markdown",
   "metadata": {},
   "source": [
    "\n",
    "13. **(★★★) “Selecionando INFNETiano”:** Crie uma função que permita buscar um usuário pelo nome e exiba o(s) INFNETiano(s) que possui(em) este nome e permita o usuário selecionar o INFNETiano.\n"
   ]
  },
  {
   "cell_type": "code",
   "execution_count": null,
   "metadata": {},
   "outputs": [],
   "source": []
  },
  {
   "cell_type": "markdown",
   "metadata": {},
   "source": [
    "\n",
    "14. **(★★) “Atualizando Dados”:** Após o INFNETiano ter sido selecionado no item anterior permita que seus dados sejam atualizados. Lembrando que deve haver um limite de até 5 hobbies e 5 jogos.\n",
    "    \n"
   ]
  },
  {
   "cell_type": "code",
   "execution_count": null,
   "metadata": {},
   "outputs": [],
   "source": []
  },
  {
   "cell_type": "markdown",
   "metadata": {},
   "source": [
    "15. **(★★) “Trending”:** Elabore um recurso que permita exibir as 5 linguagens mais citadas entre os INFNETianos e exiba contagem de vezes que cada uma foi citada.4\n"
   ]
  },
  {
   "cell_type": "markdown",
   "metadata": {},
   "source": [
    "\n"
   ]
  },
  {
   "cell_type": "markdown",
   "metadata": {},
   "source": [
    "\n",
    "### *`Sinal Amarelo* `\n",
    "\n",
    "- É permitida a consulta a ferramentas de IA apenas se for para adicionar complexidades para além do escopo do curso e apenas nas questões marcadas com (★★★). Ao usar deverá ser informado a ferramenta escolhida e o prompt fornecido. Todas os demais casos: sinal vermelho."
   ]
  }
 ],
 "metadata": {
  "kernelspec": {
   "display_name": "Python 3",
   "language": "python",
   "name": "python3"
  },
  "language_info": {
   "name": "python",
   "version": "3.12.3"
  }
 },
 "nbformat": 4,
 "nbformat_minor": 2
}
